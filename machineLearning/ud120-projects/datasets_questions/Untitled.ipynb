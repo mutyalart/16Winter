{
 "cells": [
  {
   "cell_type": "code",
   "execution_count": 37,
   "metadata": {
    "collapsed": false
   },
   "outputs": [],
   "source": [
    "import re\n",
    "import pandas\n",
    "\n",
    "\n",
    "enron_data = pandas.read_pickle('../final_project/final_project_dataset.pkl')\n",
    "\n",
    "def rat(str):\n",
    "    print 10\n",
    "    str.upper\n",
    "    for key in enron_data:\n",
    "        m = key.find(str)\n",
    "        # print str\n",
    "        if m is not -1:\n",
    "            print key\n",
    "            \n"
   ]
  },
  {
   "cell_type": "code",
   "execution_count": 39,
   "metadata": {
    "collapsed": false
   },
   "outputs": [
    {
     "name": "stdout",
     "output_type": "stream",
     "text": [
      "10\n",
      "MCMAHON JEFFREY\n",
      "SHANKMAN JEFFREY A\n",
      "SKILLING JEFFREY K\n",
      "SHERRICK JEFFREY B\n",
      "DONAHUE JR JEFFREY M\n",
      "{'salary': 370448, 'to_messages': 2355, 'deferral_payments': 'NaN', 'total_payments': 4099771, 'exercised_stock_options': 1104054, 'bonus': 2600000, 'restricted_stock': 558801, 'shared_receipt_with_poi': 2228, 'restricted_stock_deferred': 'NaN', 'total_stock_value': 1662855, 'expenses': 137108, 'loan_advances': 'NaN', 'from_messages': 48, 'other': 297353, 'from_this_person_to_poi': 26, 'poi': False, 'director_fees': 'NaN', 'deferred_income': 'NaN', 'long_term_incentive': 694862, 'email_address': 'jeffrey.mcmahon@enron.com', 'from_poi_to_this_person': 58}\n"
     ]
    }
   ],
   "source": [
    "rat(\"JEFFREY\")\n",
    "print enron_data['MCMAHON JEFFREY']"
   ]
  },
  {
   "cell_type": "markdown",
   "metadata": {},
   "source": [
    "### Percentage of people having no salaries\n"
   ]
  },
  {
   "cell_type": "code",
   "execution_count": 51,
   "metadata": {
    "collapsed": false
   },
   "outputs": [
    {
     "name": "stdout",
     "output_type": "stream",
     "text": [
      "NaN\n",
      "NaN\n",
      "NaN\n",
      "NaN\n",
      "NaN\n",
      "NaN\n",
      "NaN\n",
      "NaN\n",
      "NaN\n",
      "NaN\n",
      "NaN\n",
      "NaN\n",
      "NaN\n",
      "NaN\n",
      "NaN\n",
      "NaN\n",
      "NaN\n",
      "NaN\n",
      "NaN\n",
      "NaN\n",
      "NaN\n",
      "21\n",
      "14\n"
     ]
    }
   ],
   "source": [
    "count = 0\n",
    "for key in enron_data:\n",
    "    if enron_data[key]['total_payments'] == 'NaN':\n",
    "        count = count + 1\n",
    "#         print enron_data[key]['total_payments']\n",
    "print count\n",
    "print count*100/len(enron_data)"
   ]
  },
  {
   "cell_type": "markdown",
   "metadata": {},
   "source": [
    "### percentage of poi having zero total payments"
   ]
  },
  {
   "cell_type": "code",
   "execution_count": 64,
   "metadata": {
    "collapsed": false
   },
   "outputs": [
    {
     "name": "stdout",
     "output_type": "stream",
     "text": [
      "0\n"
     ]
    }
   ],
   "source": [
    "count = 0\n",
    "for key in enron_data:\n",
    "    if enron_data[key]['poi']:\n",
    "       if enron_data[key]['total_payments'] == 'NaN':\n",
    "        count = count + 1\n",
    "print count*100/len(enron_data)"
   ]
  },
  {
   "cell_type": "markdown",
   "metadata": {},
   "source": [
    "### percentage of poi having zero total payments after adding 10 new poi with nan"
   ]
  },
  {
   "cell_type": "code",
   "execution_count": 67,
   "metadata": {
    "collapsed": false
   },
   "outputs": [
    {
     "name": "stdout",
     "output_type": "stream",
     "text": [
      "146\n",
      "28\n"
     ]
    }
   ],
   "source": [
    "print len(enron_data)\n",
    "count = 10\n",
    "for key in enron_data:\n",
    "    if enron_data[key]['poi']:\n",
    "        count = count + 1\n",
    "print count"
   ]
  },
  {
   "cell_type": "code",
   "execution_count": null,
   "metadata": {
    "collapsed": true
   },
   "outputs": [],
   "source": []
  }
 ],
 "metadata": {
  "kernelspec": {
   "display_name": "Python 2",
   "language": "python",
   "name": "python2"
  },
  "language_info": {
   "codemirror_mode": {
    "name": "ipython",
    "version": 2
   },
   "file_extension": ".py",
   "mimetype": "text/x-python",
   "name": "python",
   "nbconvert_exporter": "python",
   "pygments_lexer": "ipython2",
   "version": "2.7.12"
  }
 },
 "nbformat": 4,
 "nbformat_minor": 1
}
