{
 "cells": [
  {
   "cell_type": "markdown",
   "metadata": {},
   "source": [
    "Fill in the NextWordProbability procedure so that it takes in \n",
    "\n",
    "sample text and a word,\n",
    "return nexWord as key and probability as value\n"
   ]
  },
  {
   "cell_type": "code",
   "execution_count": 3,
   "metadata": {
    "collapsed": true
   },
   "outputs": [],
   "source": [
    "sample_memo = '''\n",
    "Milt, we're gonna need to go ahead and move you downstairs into storage B. We have some new people coming in, and we need all the space we can get. So if you could just go ahead and pack up your stuff and move it down there, that would be terrific, OK?\n",
    "Oh, and remember: next Friday... is Hawaiian shirt day. So, you know, if you want to, go ahead and wear a Hawaiian shirt and jeans.\n",
    "Oh, oh, and I almost forgot. Ahh, I'm also gonna need you to go ahead and come in on Sunday, too...\n",
    "Hello Peter, whats happening? Ummm, I'm gonna need you to go ahead and come in tomorrow. So if you could be here around 9 that would be great, mmmk... oh oh! and I almost forgot ahh, I'm also gonna need you to go ahead and come in on Sunday too, kay. We ahh lost some people this week and ah, we sorta need to play catch up.\n",
    "'''"
   ]
  },
  {
   "cell_type": "code",
   "execution_count": 66,
   "metadata": {
    "collapsed": false
   },
   "outputs": [],
   "source": [
    "def nextWordProbability(sampleText, word):\n",
    "    map_words = {}\n",
    "    index = 0;\n",
    "    list_of_words = sampleText.split()\n",
    "    list_of_next = [i for i,x in enumerate(list_of_words) if x==word] # => [1, 3]\n",
    "    print list_of_next\n",
    "    \n",
    "    length_of_list = len(list_of_words)\n",
    "#     print list_of_words.index(word,137)\n",
    "#     while(list_of_words.index(word,index)>=0):\n",
    "#          index = list_of_words.index(word, index)\n",
    "#          print list_of_words[index] \n",
    "#          print index\n",
    "    for index in list_of_next:     \n",
    "        \n",
    "        if (index < length_of_list):\n",
    "             index = index + 1\n",
    "             next_word = list_of_words[index]\n",
    "             if(next_word in map_words.keys()): \n",
    "                    map_words[next_word] = map_words[next_word] + 1\n",
    "             else:\n",
    "                    map_words[next_word] = 1\n",
    "                    \n",
    "    print map_words\n",
    "    \n",
    "            \n",
    "     \n",
    "        \n",
    "    "
   ]
  },
  {
   "cell_type": "code",
   "execution_count": 67,
   "metadata": {
    "collapsed": false
   },
   "outputs": [
    {
     "name": "stdout",
     "output_type": "stream",
     "text": [
      "[2, 86, 104, 136]\n",
      "{'need': 4}\n"
     ]
    }
   ],
   "source": [
    "nextWordProbability(sample_memo, \"gonna\");"
   ]
  },
  {
   "cell_type": "code",
   "execution_count": 41,
   "metadata": {
    "collapsed": false
   },
   "outputs": [
    {
     "ename": "SyntaxError",
     "evalue": "invalid syntax (<ipython-input-41-fe274156ab4e>, line 1)",
     "output_type": "error",
     "traceback": [
      "\u001b[0;36m  File \u001b[0;32m\"<ipython-input-41-fe274156ab4e>\"\u001b[0;36m, line \u001b[0;32m1\u001b[0m\n\u001b[0;31m    \"text\".in\u001b[0m\n\u001b[0m            ^\u001b[0m\n\u001b[0;31mSyntaxError\u001b[0m\u001b[0;31m:\u001b[0m invalid syntax\n"
     ]
    }
   ],
   "source": [
    "\"text\".in"
   ]
  },
  {
   "cell_type": "code",
   "execution_count": null,
   "metadata": {
    "collapsed": true
   },
   "outputs": [],
   "source": []
  }
 ],
 "metadata": {
  "kernelspec": {
   "display_name": "Python 2",
   "language": "python",
   "name": "python2"
  },
  "language_info": {
   "codemirror_mode": {
    "name": "ipython",
    "version": 2
   },
   "file_extension": ".py",
   "mimetype": "text/x-python",
   "name": "python",
   "nbconvert_exporter": "python",
   "pygments_lexer": "ipython2",
   "version": "2.7.12"
  }
 },
 "nbformat": 4,
 "nbformat_minor": 1
}
