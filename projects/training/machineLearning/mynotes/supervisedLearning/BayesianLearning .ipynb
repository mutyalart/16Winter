{
 "cells": [
  {
   "cell_type": "markdown",
   "metadata": {},
   "source": [
    "Fill in the NextWordProbability procedure so that it takes in \n",
    "\n",
    "sample text and a word,\n",
    "return nexWord as key and probability as value\n"
   ]
  },
  {
   "cell_type": "code",
   "execution_count": 3,
   "metadata": {
    "collapsed": true
   },
   "outputs": [],
   "source": [
    "sample_memo = '''\n",
    "Milt, we're gonna need to go ahead and move you downstairs into storage B. We have some new people coming in, and we need all the space we can get. So if you could just go ahead and pack up your stuff and move it down there, that would be terrific, OK?\n",
    "Oh, and remember: next Friday... is Hawaiian shirt day. So, you know, if you want to, go ahead and wear a Hawaiian shirt and jeans.\n",
    "Oh, oh, and I almost forgot. Ahh, I'm also gonna need you to go ahead and come in on Sunday, too...\n",
    "Hello Peter, whats happening? Ummm, I'm gonna need you to go ahead and come in tomorrow. So if you could be here around 9 that would be great, mmmk... oh oh! and I almost forgot ahh, I'm also gonna need you to go ahead and come in on Sunday too, kay. We ahh lost some people this week and ah, we sorta need to play catch up.\n",
    "'''"
   ]
  },
  {
   "cell_type": "code",
   "execution_count": 66,
   "metadata": {
    "collapsed": false
   },
   "outputs": [],
   "source": [
    "def nextWordProbability(sampleText, word):\n",
    "    map_words = {}\n",
    "    index = 0;\n",
    "    list_of_words = sampleText.split()\n",
    "    list_of_next = [i for i,x in enumerate(list_of_words) if x==word] # => [1, 3]\n",
    "    print list_of_next\n",
    "    \n",
    "    length_of_list = len(list_of_words)\n",
    "    for index in list_of_next:     \n",
    "        \n",
    "        if (index < length_of_list):\n",
    "             index = index + 1\n",
    "             next_word = list_of_words[index]\n",
    "             if(next_word in map_words.keys()): \n",
    "                    map_words[next_word] = map_words[next_word] + 1\n",
    "             else:\n",
    "                    map_words[next_word] = 1\n",
    "                    \n",
    "    print map_words\n",
    "    \n",
    "            \n",
    "     \n",
    "        \n",
    "    "
   ]
  },
  {
   "cell_type": "code",
   "execution_count": 67,
   "metadata": {
    "collapsed": false
   },
   "outputs": [
    {
     "name": "stdout",
     "output_type": "stream",
     "text": [
      "[2, 86, 104, 136]\n",
      "{'need': 4}\n"
     ]
    }
   ],
   "source": [
    "nextWordProbability(sample_memo, \"gonna\");"
   ]
  },
  {
   "cell_type": "code",
   "execution_count": 74,
   "metadata": {
    "collapsed": false
   },
   "outputs": [],
   "source": [
    "sample_memo = '''\n",
    "Milt, we're gonna need to go ahead and move you downstairs into storage B. We have some new people coming in, and we need all the space we can get. So if you could just go ahead and pack up your stuff and move it down there, that would be terrific, OK?\n",
    "Oh, and remember: next Friday... is Hawaiian shirt day. So, you know, if you want to, go ahead and wear a Hawaiian shirt and jeans.\n",
    "Oh, oh, and I almost forgot. Ahh, I'm also gonna need you to go ahead and come in on Sunday, too...\n",
    "Hello Peter, whats happening? Ummm, I'm gonna need you to go ahead and come in tomorrow. So if you could be here around 9 that would be great, mmmk... oh oh! and I almost forgot ahh, I'm also gonna need you to go ahead and come in on Sunday too, kay. We ahh lost some people this week and ah, we sorta need to play catch up.\n",
    "'''\n",
    "\n",
    "corrupted_memo = '''\n",
    "Yeah, I'm gonna --- you to go ahead --- --- complain about this. Oh, and if you could --- --- and sit at the kids' table, that'd be --- \n",
    "'''"
   ]
  },
  {
   "cell_type": "code",
   "execution_count": 75,
   "metadata": {
    "collapsed": true
   },
   "outputs": [],
   "source": [
    "data_list = sample_memo.strip().split()\n",
    "\n",
    "words_to_guess = [\"ahead\",\"could\"]\n"
   ]
  },
  {
   "cell_type": "code",
   "execution_count": 76,
   "metadata": {
    "collapsed": false
   },
   "outputs": [
    {
     "data": {
      "text/plain": [
       "'@param sample: a sample of text to draw from\\n    @param word: a word occuring before a corrupted sequence\\n    @param distance: how many words later to estimate (i.e. 1 for the next word, 2 for the word after that)\\n    @returns: a single word which is the most likely possibility\\n    '"
      ]
     },
     "execution_count": 76,
     "metadata": {},
     "output_type": "execute_result"
    }
   ],
   "source": [
    "'''@param sample: a sample of text to draw from\n",
    "    @param word: a word occuring before a corrupted sequence\n",
    "    @param distance: how many words later to estimate (i.e. 1 for the next word, 2 for the word after that)\n",
    "    @returns: a single word which is the most likely possibility\n",
    "    '''\n",
    "    \n",
    "    # TODO: Given a word, collect the relative probabilities of possible following words\n",
    "    # from @sample. You may want to import your code from the maximum likelihood exercise.\n",
    "    \n",
    "    # TODO: Repeat the above process--for each distance beyond 1, evaluate the words that\n",
    "    # might come after each word, and combine them weighting by relative probability\n",
    "    # into an estimate of what might appear next."
   ]
  },
  {
   "cell_type": "code",
   "execution_count": 103,
   "metadata": {
    "collapsed": true
   },
   "outputs": [],
   "source": [
    "def nextWordProbability(sampleText, word, distance):\n",
    "    map_words = {}\n",
    "    index = 0;\n",
    "    list_of_words = sampleText.split()\n",
    "    list_of_next = [i for i,x in enumerate(list_of_words) if x==word] # => [1, 3]\n",
    "#     print list_of_next\n",
    "    \n",
    "    length_of_list = len(list_of_words)\n",
    "    for index in list_of_next:     \n",
    "        \n",
    "        if (index < length_of_list-distance):\n",
    "             index = index + distance\n",
    "             next_word = list_of_words[index]\n",
    "             if(next_word in map_words.keys()): \n",
    "                    map_words[next_word] = map_words[next_word] + distance\n",
    "             else:\n",
    "                    map_words[next_word] = 1.0\n",
    "    for key in map_words:\n",
    "        map_words[key] = map_words[key]/(len(list_of_next)*1.0)\n",
    "    return map_words"
   ]
  },
  {
   "cell_type": "code",
   "execution_count": 104,
   "metadata": {
    "collapsed": false
   },
   "outputs": [
    {
     "name": "stdout",
     "output_type": "stream",
     "text": [
      "{'need': 1.0}\n"
     ]
    }
   ],
   "source": [
    "print nextWordProbability(sample_memo, \"gonna\",1);"
   ]
  },
  {
   "cell_type": "code",
   "execution_count": 151,
   "metadata": {
    "collapsed": true
   },
   "outputs": [],
   "source": [
    "def max(sample,word,distance):\n",
    "    print sample,word,distance\n",
    "    max_probable_key = None\n",
    "    if (distance == 1):\n",
    "        for key in map_possible_words:\n",
    "            if max_key is not None:\n",
    "                if (map_possible_words[key] > map_possible_words[max_key]): \n",
    "                    max_key = key \n",
    "            else: max_key = key\n",
    "    else:\n",
    "        first_word_possibilities = nextWordProbability(sample,word,1)\n",
    "        \n",
    "        first_best_word = None\n",
    "#         frist_word_probability =0.0\n",
    "        second_best_word = None\n",
    "#         second_word_probability = 0.0\n",
    "        best_probability = 0.0\n",
    "        first_word_possibilities = nextWordProbability(sample,word,1)\n",
    "        for first_word in first_word_possibilities:\n",
    "            first_word_probability = first_word_possibilities[first_word]\n",
    "            second_word_possibilities = nextWordProbability(sample,first_word,1)\n",
    "            for second_word_key in second_word_possibilities:\n",
    "                second_word_key_probability = second_word_possibilities[second_word_key]\n",
    "                if (second_word_key_probability*first_word_probability > best_probability):\n",
    "                    best_probability = second_word_key_probability * first_word_probability\n",
    "                    second_best_word = second_word_key\n",
    "                    first_best_word = first_word\n",
    "            \n",
    "            \n",
    "    return second_best_word\n",
    "        "
   ]
  },
  {
   "cell_type": "code",
   "execution_count": 152,
   "metadata": {
    "collapsed": true
   },
   "outputs": [],
   "source": [
    "def LaterWords(sample,word,distance):\n",
    "        return max(sample,word,distance)\n"
   ]
  },
  {
   "cell_type": "code",
   "execution_count": 153,
   "metadata": {
    "collapsed": false
   },
   "outputs": [
    {
     "name": "stdout",
     "output_type": "stream",
     "text": [
      "\n",
      "Milt, we're gonna need to go ahead and move you downstairs into storage B. We have some new people coming in, and we need all the space we can get. So if you could just go ahead and pack up your stuff and move it down there, that would be terrific, OK?\n",
      "Oh, and remember: next Friday... is Hawaiian shirt day. So, you know, if you want to, go ahead and wear a Hawaiian shirt and jeans.\n",
      "Oh, oh, and I almost forgot. Ahh, I'm also gonna need you to go ahead and come in on Sunday, too...\n",
      "Hello Peter, whats happening? Ummm, I'm gonna need you to go ahead and come in tomorrow. So if you could be here around 9 that would be great, mmmk... oh oh! and I almost forgot ahh, I'm also gonna need you to go ahead and come in on Sunday too, kay. We ahh lost some people this week and ah, we sorta need to play catch up.\n",
      "gonna 2\n",
      "you\n"
     ]
    }
   ],
   "source": [
    "print LaterWords(sample_memo,\"gonna\",2)"
   ]
  },
  {
   "cell_type": "code",
   "execution_count": null,
   "metadata": {
    "collapsed": true
   },
   "outputs": [],
   "source": []
  }
 ],
 "metadata": {
  "kernelspec": {
   "display_name": "Python 2",
   "language": "python",
   "name": "python2"
  },
  "language_info": {
   "codemirror_mode": {
    "name": "ipython",
    "version": 2
   },
   "file_extension": ".py",
   "mimetype": "text/x-python",
   "name": "python",
   "nbconvert_exporter": "python",
   "pygments_lexer": "ipython2",
   "version": "2.7.12"
  }
 },
 "nbformat": 4,
 "nbformat_minor": 1
}
